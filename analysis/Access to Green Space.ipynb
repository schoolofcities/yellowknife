{
 "cells": [
  {
   "cell_type": "markdown",
   "id": "5107ffbb",
   "metadata": {},
   "source": [
    "## City of Yellowknife Zones Count"
   ]
  },
  {
   "cell_type": "code",
   "execution_count": 1,
   "id": "256e8b03",
   "metadata": {},
   "outputs": [],
   "source": [
    "import pandas as pd"
   ]
  },
  {
   "cell_type": "code",
   "execution_count": 15,
   "id": "8fe1300c",
   "metadata": {},
   "outputs": [
    {
     "data": {
      "text/html": [
       "<div>\n",
       "<style scoped>\n",
       "    .dataframe tbody tr th:only-of-type {\n",
       "        vertical-align: middle;\n",
       "    }\n",
       "\n",
       "    .dataframe tbody tr th {\n",
       "        vertical-align: top;\n",
       "    }\n",
       "\n",
       "    .dataframe thead th {\n",
       "        text-align: right;\n",
       "    }\n",
       "</style>\n",
       "<table border=\"1\" class=\"dataframe\">\n",
       "  <thead>\n",
       "    <tr style=\"text-align: right;\">\n",
       "      <th></th>\n",
       "      <th>CODE_SHORT</th>\n",
       "      <th>count</th>\n",
       "    </tr>\n",
       "  </thead>\n",
       "  <tbody>\n",
       "    <tr>\n",
       "      <th>0</th>\n",
       "      <td>AE</td>\n",
       "      <td>2</td>\n",
       "    </tr>\n",
       "  </tbody>\n",
       "</table>\n",
       "</div>"
      ],
      "text/plain": [
       "  CODE_SHORT  count\n",
       "0         AE      2"
      ]
     },
     "execution_count": 15,
     "metadata": {},
     "output_type": "execute_result"
    }
   ],
   "source": [
    "zones = pd.read_csv(\"data/city_of_yellowknife/yk_zones_shp/yk_zones.csv\")\n",
    "\n",
    "zones_count = zones.groupby(by=\"CODE_SHORT\").size().to_frame(name=\"count\")\n",
    "zones_count = zones_count.reset_index()\n",
    "zones_count.head(1)"
   ]
  },
  {
   "cell_type": "markdown",
   "id": "5824cf8f",
   "metadata": {},
   "source": [
    "## Download OSM Data"
   ]
  },
  {
   "cell_type": "code",
   "execution_count": 19,
   "id": "4619ced1",
   "metadata": {},
   "outputs": [
    {
     "name": "stdout",
     "output_type": "stream",
     "text": [
      "Downloaded Protobuf data 'northwest-territories-latest.osm.pbf' (196.07 MB) to:\n",
      "'C:\\Users\\teres\\OneDrive - University of Toronto\\Documents\\GitHub\\yellowknife\\analysis\\data\\osm\\northwest-territories-latest.osm.pbf'\n"
     ]
    }
   ],
   "source": [
    "import pyrosm\n",
    "from pyrosm import get_data\n",
    "\n",
    "fp = get_data(\"northwest_territories\", directory = \"data/osm\")"
   ]
  }
 ],
 "metadata": {
  "kernelspec": {
   "display_name": "gis",
   "language": "python",
   "name": "gis"
  },
  "language_info": {
   "codemirror_mode": {
    "name": "ipython",
    "version": 3
   },
   "file_extension": ".py",
   "mimetype": "text/x-python",
   "name": "python",
   "nbconvert_exporter": "python",
   "pygments_lexer": "ipython3",
   "version": "3.10.12"
  }
 },
 "nbformat": 4,
 "nbformat_minor": 5
}
